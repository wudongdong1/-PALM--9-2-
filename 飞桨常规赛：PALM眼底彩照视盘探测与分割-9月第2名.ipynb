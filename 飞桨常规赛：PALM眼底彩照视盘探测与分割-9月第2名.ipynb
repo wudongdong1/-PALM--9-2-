{
 "cells": [
  {
   "cell_type": "markdown",
   "metadata": {
    "collapsed": false
   },
   "source": [
    "\n",
    "# 飞桨常规赛：PALM眼底彩照视盘探测与分割-9月第2名\n",
    "**比赛地址： [https://aistudio.baidu.com/aistudio/competition/detail/85](https://aistudio.baidu.com/aistudio/competition/detail/87)**\n",
    "\n",
    "**AI Studio地址：[ https://aistudio.baidu.com/aistudio/personalcenter/thirdview/725102](https://aistudio.baidu.com/aistudio/competition/detail/87)**\n",
    "# 一、赛题介绍\n",
    "## 1. 赛题简介\n",
    "常规赛简介\n",
    "\n",
    "飞桨（PaddlePaddle）以百度多年的深度学习技术研究和业务应用为基础，是中国首个开源开放、技术领先、功能完备的产业级深度学习平台。更多飞桨资讯，点击此处查看。\n",
    "\n",
    "飞桨常规赛由百度飞桨于 2019 年发起，面向全球 AI 开发者，赛题范围广，涵盖领域多。常规赛旨在通过长期发布的经典比赛项目，为开发者提供学习锻炼机会，助力大家在飞桨大赛中获得骄人成绩。\n",
    "\n",
    "参赛选手需使用飞桨框架，基于特定赛题下的真实行业数据完成并提交任务。常规赛采取月度评比方式，为打破历史最高记录选手和当月有资格参与月度评奖的前 10 名选手提供飞桨特别礼包奖励。更多惊喜，更多收获，尽在飞桨常规赛。\n",
    "\n",
    "赛题介绍 本赛题原型为ISBI2019PALM眼科大赛。 近视已成为全球公共卫生负担。在近视患者中，约35%为高度近视。近视导致眼轴长度的延长，可能引起视网膜和脉络膜的病理改变。随着近视屈光度的增加，高度近视将发展为病理性近视，其特点是病理改变的形成:(1)后极，包括镶嵌型眼底、后葡萄肿、视网膜脉络膜变性等;(2)视盘，包括乳头旁萎缩、倾斜等;(3)近视性黄斑，包括漆裂、福氏斑、CNV等。病理性近视对患者造成不可逆的视力损害。因此，早期诊断和定期随访非常重要。 \n",
    "\n",
    " ![](https://ai-studio-static-online.cdn.bcebos.com/27fabb47f8af452087086140c147338180bcea215bee48c1b5c7f6e270c8ff2d)\n",
    " 视网膜由黄斑向鼻侧约3mm处有一直径约1.5mm、境界清楚的淡红色圆盘状结构，称为视神经盘，简称视盘。视盘是眼底图像的一个重要特征，对其进行准确、快速地定位与分割对利用眼底图像进行疾病辅助诊断具有重要意义。\n",
    "## 2.比赛任务\n",
    "该任务目的是对眼底图像的视盘进行检测，若存在视盘结构，需从眼底图像中分割出视盘区域；若无视盘结构，分割结果直接置全背景。\n",
    " ![](https://ai-studio-static-online.cdn.bcebos.com/c584ee43a27947b6b8908464fa1d90386490eca0ddcd43ae86d9e5251e569071)\n",
    "\n"
   ]
  },
  {
   "cell_type": "markdown",
   "metadata": {
    "collapsed": false
   },
   "source": [
    "## 3.数据集\n",
    "本次常规赛提供的金标准由中山大学中山眼科中心的7名眼科医生手工进行视盘像素级标注，之后由另一位高级专家将它们融合为最终的标注结果。存储为BMP图像，与对应的眼底图像大小相同，标签为0代表视盘（黑色区域）；标签为255代表其他（白色区域）。\n",
    "\n",
    "训练数据集\n",
    "\n",
    "文件名称：Train Train文件夹里有fundus_images文件夹和Disc_Masks文件夹。\n",
    "\n",
    "fundus_images文件夹内包含800张眼底彩照，分辨率为1444×1444，或2124×2056。命名形如H0001.jpg、N0001.jpg、P0001.jpg和V0001.jpg。\n",
    "\n",
    "Disc_Masks文件夹内包含fundus_images里眼底彩照的视盘分割金标准，大小与对应的眼底彩照一致。命名前缀和对应的fundus_images文件夹里的图像命名一致，后缀为bmp。\n",
    "\n",
    "测试数据集\n",
    "\n",
    "文件名称：PALM-Testing400-Images\n",
    "\n",
    "包含400张眼底彩照，命名形如T0001.jpg。"
   ]
  },
  {
   "cell_type": "markdown",
   "metadata": {
    "collapsed": false
   },
   "source": [
    "### （一）解压数据"
   ]
  },
  {
   "cell_type": "code",
   "execution_count": null,
   "metadata": {
    "collapsed": false
   },
   "outputs": [],
   "source": [
    "!unzip -o data/data86770/seg.zip -d /home/aistudio/work"
   ]
  },
  {
   "cell_type": "markdown",
   "metadata": {
    "collapsed": false
   },
   "source": [
    "### （二）克隆Paddleseg"
   ]
  },
  {
   "cell_type": "code",
   "execution_count": null,
   "metadata": {
    "collapsed": false
   },
   "outputs": [],
   "source": [
    "!git clone https://gitee.com/PaddlePaddle/PaddleSeg"
   ]
  },
  {
   "cell_type": "markdown",
   "metadata": {
    "collapsed": false
   },
   "source": [
    "### （三）生成train.txt 和val.txt   按8：2 的比例划分数据集"
   ]
  },
  {
   "cell_type": "code",
   "execution_count": null,
   "metadata": {
    "collapsed": false
   },
   "outputs": [],
   "source": [
    "import random\r\n",
    "import os\r\n",
    "random.seed(2020)\r\n",
    "mask_dir  = '/home/aistudio/work/seg/Train/masks'\r\n",
    "img_dir = '/home/aistudio/work/seg/Train/fundus_image'\r\n",
    "path_list = list()\r\n",
    "for img in os.listdir(img_dir):\r\n",
    "    img_path = os.path.join(img_dir,img)\r\n",
    "    mask_path = os.path.join(mask_dir,img.replace('jpg', 'png'))\r\n",
    "    path_list.append((img_path, mask_path))\r\n",
    "random.shuffle(path_list)\r\n",
    "ratio = 0.8\r\n",
    "train_f = open('/home/aistudio/work/seg/Train/train.txt','w') \r\n",
    "val_f = open('/home/aistudio/work/seg/Train/val.txt' ,'w')\r\n",
    "\r\n",
    "for i ,content in enumerate(path_list):\r\n",
    "    img, mask = content\r\n",
    "    text = img + ' ' + mask + '\\n'\r\n",
    "    if i < len(path_list) * ratio:\r\n",
    "        train_f.write(text)\r\n",
    "    else:\r\n",
    "        val_f.write(text)\r\n",
    "train_f.close()\r\n",
    "val_f.close()"
   ]
  },
  {
   "cell_type": "markdown",
   "metadata": {
    "collapsed": false
   },
   "source": [
    "### （四）开始训练"
   ]
  },
  {
   "cell_type": "markdown",
   "metadata": {
    "collapsed": false
   },
   "source": [
    "### 模型使用Unet 预训练权重放在 /home/aistudio/unetmodel.pdparams，Loss用DiceLoss（）和CrossEntropyLoss（）两个损失函数，混合使用\n",
    "```\n",
    "loss:\n",
    "  types:\n",
    "    - type: MixedLoss\n",
    "      losses:\n",
    "        - type: CrossEntropyLoss\n",
    "        - type: DiceLoss\n",
    "      coef: [0.7, 0.3]\n",
    "  coef: [1]\n",
    "\n",
    "model:\n",
    "  type: UNet\n",
    "  num_classes: 2\n",
    "  use_deconv: False\n",
    "  pretrained: /home/aistudio/unetmodel.pdparams\n",
    "```"
   ]
  },
  {
   "cell_type": "code",
   "execution_count": null,
   "metadata": {
    "collapsed": false
   },
   "outputs": [],
   "source": []
  },
  {
   "cell_type": "code",
   "execution_count": null,
   "metadata": {
    "collapsed": false
   },
   "outputs": [],
   "source": [
    "%cd /home/aistudio/PaddleSeg\r\n",
    "!python train.py --config configs/Unet_PALM.yml --do_eval --use_vdl --save_interval 64 --save_dir output_Unet"
   ]
  },
  {
   "cell_type": "markdown",
   "metadata": {
    "collapsed": false
   },
   "source": [
    "### （五）验证"
   ]
  },
  {
   "cell_type": "code",
   "execution_count": null,
   "metadata": {
    "collapsed": false
   },
   "outputs": [],
   "source": [
    "import paddle\r\n",
    "\r\n",
    "logit = paddle.to_tensor([5.0, 1.0, 3.0], dtype=\"float32\")\r\n",
    "label = paddle.to_tensor([1.0, 0.0, 1.0], dtype=\"float32\")\r\n",
    "output = paddle.nn.functional.binary_cross_entropy_with_logits(logit, label,reduction='none')\r\n",
    "print(output)  # [0.45618808]"
   ]
  },
  {
   "cell_type": "code",
   "execution_count": null,
   "metadata": {
    "collapsed": false
   },
   "outputs": [
    {
     "name": "stdout",
     "output_type": "stream",
     "text": [
      "/opt/conda/envs/python35-paddle120-env/lib/python3.7/site-packages/paddle/fluid/layers/utils.py:26: DeprecationWarning: `np.int` is a deprecated alias for the builtin `int`. To silence this warning, use `int` by itself. Doing this will not modify any behavior and is safe. When replacing `np.int`, you may wish to use e.g. `np.int64` or `np.int32` to specify the precision. If you wish to review your current use, check the release note link for additional information.\n",
      "Deprecated in NumPy 1.20; for more details and guidance: https://numpy.org/devdocs/release/1.20.0-notes.html#deprecations\n",
      "  def convert_to_list(value, n, name, dtype=np.int):\n",
      "2021-09-15 22:22:00 [INFO]\t\n",
      "---------------Config Information---------------\n",
      "batch_size: 10\n",
      "iters: 12800\n",
      "learning_rate:\n",
      "  decay:\n",
      "    end_lr: 0.0\n",
      "    power: 0.9\n",
      "    type: poly\n",
      "  value: 0.00125\n",
      "loss:\n",
      "  coef:\n",
      "  - 1\n",
      "  types:\n",
      "  - coef:\n",
      "    - 0.7\n",
      "    - 0.3\n",
      "    losses:\n",
      "    - type: CrossEntropyLoss\n",
      "    - type: DiceLoss\n",
      "    type: MixedLoss\n",
      "model:\n",
      "  num_classes: 2\n",
      "  pretrained: null\n",
      "  type: UNet\n",
      "  use_deconv: false\n",
      "optimizer:\n",
      "  type: adam\n",
      "  weight_decay: 4.0e-05\n",
      "train_dataset:\n",
      "  dataset_root: /home/aistudio/work/seg/Train/\n",
      "  mode: train\n",
      "  num_classes: 2\n",
      "  train_path: /home/aistudio/work/seg/Train/train.txt\n",
      "  transforms:\n",
      "  - target_size:\n",
      "    - 512\n",
      "    - 512\n",
      "    type: Resize\n",
      "  - type: RandomHorizontalFlip\n",
      "  - brightness_range: 0.4\n",
      "    contrast_range: 0.4\n",
      "    saturation_range: 0.4\n",
      "    type: RandomDistort\n",
      "  - type: Normalize\n",
      "  type: Dataset\n",
      "val_dataset:\n",
      "  dataset_root: /home/aistudio/work/seg/Train/\n",
      "  mode: val\n",
      "  num_classes: 2\n",
      "  transforms:\n",
      "  - target_size:\n",
      "    - 512\n",
      "    - 512\n",
      "    type: Resize\n",
      "  - type: Normalize\n",
      "  type: Dataset\n",
      "  val_path: /home/aistudio/work/seg/Train/val.txt\n",
      "------------------------------------------------\n",
      "W0915 22:22:00.918298 23701 device_context.cc:362] Please NOTE: device: 0, GPU Compute Capability: 7.0, Driver API Version: 10.1, Runtime API Version: 10.1\n",
      "W0915 22:22:00.918335 23701 device_context.cc:372] device: 0, cuDNN Version: 7.6.\n",
      "2021-09-15 22:22:05 [INFO]\tLoading pretrained model from output_Unet/best_model/model.pdparams\n",
      "2021-09-15 22:22:05 [INFO]\tThere are 112/112 variables loaded into UNet.\n",
      "2021-09-15 22:22:05 [INFO]\tLoaded trained params of model successfully\n",
      "2021-09-15 22:22:05 [INFO]\tStart evaluating (total_samples: 160, total_iters: 160)...\n",
      "/opt/conda/envs/python35-paddle120-env/lib/python3.7/site-packages/paddle/fluid/dataloader/dataloader_iter.py:89: DeprecationWarning: `np.bool` is a deprecated alias for the builtin `bool`. To silence this warning, use `bool` by itself. Doing this will not modify any behavior and is safe. If you specifically wanted the numpy scalar type, use `np.bool_` here.\n",
      "Deprecated in NumPy 1.20; for more details and guidance: https://numpy.org/devdocs/release/1.20.0-notes.html#deprecations\n",
      "  if isinstance(slot[0], (np.ndarray, np.bool, numbers.Number)):\n",
      "/opt/conda/envs/python35-paddle120-env/lib/python3.7/site-packages/paddle/fluid/dygraph/math_op_patch.py:238: UserWarning: The dtype of left and right variables are not the same, left dtype is VarType.INT32, but right dtype is VarType.BOOL, the right dtype will convert to VarType.INT32\n",
      "  format(lhs_dtype, rhs_dtype, lhs_dtype))\n",
      "/opt/conda/envs/python35-paddle120-env/lib/python3.7/site-packages/paddle/fluid/dygraph/math_op_patch.py:238: UserWarning: The dtype of left and right variables are not the same, left dtype is VarType.INT64, but right dtype is VarType.BOOL, the right dtype will convert to VarType.INT64\n",
      "  format(lhs_dtype, rhs_dtype, lhs_dtype))\n",
      "160/160 [==============================] - 22s 140ms/step - batch_cost: 0.1398 - reader cost: 0.126\n",
      "2021-09-15 22:22:28 [INFO]\t[EVAL] #Images: 160 mIoU: 0.9504 Acc: 0.9982 Kappa: 0.9479 \n",
      "2021-09-15 22:22:28 [INFO]\t[EVAL] Class IoU: \n",
      "[0.9982 0.9025]\n",
      "2021-09-15 22:22:28 [INFO]\t[EVAL] Class Acc: \n",
      "[0.999  0.9529]\n"
     ]
    }
   ],
   "source": [
    "!python val.py --config configs/Unet_PALM.yml  --model_path output_Unet/best_model/model.pdparams "
   ]
  },
  {
   "cell_type": "markdown",
   "metadata": {
    "collapsed": false
   },
   "source": [
    "### （六）预测"
   ]
  },
  {
   "cell_type": "code",
   "execution_count": null,
   "metadata": {
    "collapsed": false
   },
   "outputs": [
    {
     "name": "stdout",
     "output_type": "stream",
     "text": [
      "/opt/conda/envs/python35-paddle120-env/lib/python3.7/site-packages/paddle/fluid/layers/utils.py:26: DeprecationWarning: `np.int` is a deprecated alias for the builtin `int`. To silence this warning, use `int` by itself. Doing this will not modify any behavior and is safe. When replacing `np.int`, you may wish to use e.g. `np.int64` or `np.int32` to specify the precision. If you wish to review your current use, check the release note link for additional information.\n",
      "Deprecated in NumPy 1.20; for more details and guidance: https://numpy.org/devdocs/release/1.20.0-notes.html#deprecations\n",
      "  def convert_to_list(value, n, name, dtype=np.int):\n",
      "2021-09-15 22:22:51 [INFO]\t\n",
      "---------------Config Information---------------\n",
      "batch_size: 10\n",
      "iters: 12800\n",
      "learning_rate:\n",
      "  decay:\n",
      "    end_lr: 0.0\n",
      "    power: 0.9\n",
      "    type: poly\n",
      "  value: 0.00125\n",
      "loss:\n",
      "  coef:\n",
      "  - 1\n",
      "  types:\n",
      "  - coef:\n",
      "    - 0.7\n",
      "    - 0.3\n",
      "    losses:\n",
      "    - type: CrossEntropyLoss\n",
      "    - type: DiceLoss\n",
      "    type: MixedLoss\n",
      "model:\n",
      "  num_classes: 2\n",
      "  pretrained: null\n",
      "  type: UNet\n",
      "  use_deconv: false\n",
      "optimizer:\n",
      "  type: adam\n",
      "  weight_decay: 4.0e-05\n",
      "train_dataset:\n",
      "  dataset_root: /home/aistudio/work/seg/Train/\n",
      "  mode: train\n",
      "  num_classes: 2\n",
      "  train_path: /home/aistudio/work/seg/Train/train.txt\n",
      "  transforms:\n",
      "  - target_size:\n",
      "    - 512\n",
      "    - 512\n",
      "    type: Resize\n",
      "  - type: RandomHorizontalFlip\n",
      "  - brightness_range: 0.4\n",
      "    contrast_range: 0.4\n",
      "    saturation_range: 0.4\n",
      "    type: RandomDistort\n",
      "  - type: Normalize\n",
      "  type: Dataset\n",
      "val_dataset:\n",
      "  dataset_root: /home/aistudio/work/seg/Train/\n",
      "  mode: val\n",
      "  num_classes: 2\n",
      "  transforms:\n",
      "  - target_size:\n",
      "    - 512\n",
      "    - 512\n",
      "    type: Resize\n",
      "  - type: Normalize\n",
      "  type: Dataset\n",
      "  val_path: /home/aistudio/work/seg/Train/val.txt\n",
      "------------------------------------------------\n",
      "W0915 22:22:51.018038 23806 device_context.cc:362] Please NOTE: device: 0, GPU Compute Capability: 7.0, Driver API Version: 10.1, Runtime API Version: 10.1\n",
      "W0915 22:22:51.018090 23806 device_context.cc:372] device: 0, cuDNN Version: 7.6.\n",
      "2021-09-15 22:22:55 [INFO]\tNumber of predict images = 400\n",
      "2021-09-15 22:22:55 [INFO]\tLoading pretrained model from output_Unet/best_model/model.pdparams\n",
      "2021-09-15 22:22:55 [INFO]\tThere are 112/112 variables loaded into UNet.\n",
      "2021-09-15 22:22:56 [INFO]\tStart to predict...\n",
      "400/400 [==============================] - 119s 298ms/ste\n"
     ]
    }
   ],
   "source": [
    "!python predict.py \\\r\n",
    "       --config configs/Unet_PALM.yml \\\r\n",
    "       --model_path best_model/model.pdparams \\\r\n",
    "       --image_path /home/aistudio/work/seg/test \\\r\n",
    "       --save_dir output_Unett/Disc_Segmentation"
   ]
  },
  {
   "cell_type": "markdown",
   "metadata": {
    "collapsed": false
   },
   "source": [
    "### （七）生成结果"
   ]
  },
  {
   "cell_type": "code",
   "execution_count": null,
   "metadata": {
    "collapsed": false
   },
   "outputs": [],
   "source": [
    "import os \r\n",
    "import cv2\r\n",
    "result_path = '/home/aistudio/PaddleSeg/output_Unet/Disc_Segmentation/pseudo_color_prediction'\r\n",
    "dist_path = '/home/aistudio/Disc_Segmentation'\r\n",
    "num=0\r\n",
    "for img_name in os.listdir(result_path):\r\n",
    "    img_path = os.path.join(result_path, img_name)\r\n",
    "    img = cv2.imread(img_path)\r\n",
    "    g  = img[:,:,1]\r\n",
    "    ret, result = cv2.threshold(g, 127,255, cv2.THRESH_BINARY_INV)\r\n",
    "    cv2.imwrite(os.path.join(dist_path,img_name), result)\r\n",
    "    num=num+1"
   ]
  },
  {
   "cell_type": "markdown",
   "metadata": {
    "collapsed": false
   },
   "source": [
    "#### 先用Unet进行分割。对预测结果进行处理。假如某一张图片预测的结果出现多个不连通的区域，通过面积筛选，只保留最大的面积。"
   ]
  },
  {
   "cell_type": "code",
   "execution_count": null,
   "metadata": {
    "collapsed": false
   },
   "outputs": [],
   "source": [
    "import os \r\n",
    "import cv2\r\n",
    "import matplotlib.pyplot as plt\r\n",
    "def cnt_area(cnt):\r\n",
    "    area = cv2.contourArea(cnt)\r\n",
    "    return area\r\n",
    "\r\n",
    "result_path = '/home/aistudio/PaddleSeg/output_Unet/result/pseudo_color_prediction'\r\n",
    "dist_path = '/home/aistudio/Disc_Segmentation'\r\n",
    "for img_name in os.listdir(result_path):\r\n",
    "    img_path = os.path.join(result_path, img_name)\r\n",
    "    img = cv2.imread(img_path)\r\n",
    "    g  = img[:,:,1]\r\n",
    "    ret, threshold = cv2.threshold(g, 127,255, cv2.THRESH_BINARY)\r\n",
    "\r\n",
    "\r\n",
    "    contours, hierarch = cv2.findContours(threshold, cv2.RETR_LIST, cv2.CHAIN_APPROX_NONE)\r\n",
    "    contours.sort(key=cnt_area, reverse=True)\r\n",
    "    if len(contours) > 1:\r\n",
    "        for i in range(1,len(contours)):\r\n",
    "            cv2.drawContours(threshold, [contours[i]], 0, 0, -1)\r\n",
    "    _,result = cv2.threshold(threshold, 127, 255, cv2.THRESH_BINARY_INV)\r\n",
    "    cv2.imwrite(os.path.join(dist_path, img_name), result)\r\n"
   ]
  },
  {
   "cell_type": "code",
   "execution_count": 13,
   "metadata": {
    "collapsed": false
   },
   "outputs": [
    {
     "name": "stdout",
     "output_type": "stream",
     "text": [
      "\u001b[1;33mVisualDL 2.2.0\u001b[0m\n",
      "Running VisualDL at http://127.0.0.1:8080/ (Press CTRL+C to quit)\n"
     ]
    }
   ],
   "source": [
    "\r\n",
    "\r\n",
    "!visualdl --logdir PaddleSeg/output_Unet/vdlrecords.1631691380.log --host 127.0.0.1 --port 8080"
   ]
  },
  {
   "cell_type": "markdown",
   "metadata": {
    "collapsed": false
   },
   "source": [
    "#（八）总结\n",
    "# 飞桨使用体验及给其他选手的一些建议\n",
    "飞桨是一个非常好的深度学习平台，给大家提供免费的算力，免费的课程，各种常规比赛。里面的各种深度学习算法都有对应的模型，非常完备，工具也很齐全\n",
    "给其他选手的一些建议：\n",
    "1.多参加平台上面的课程\n",
    "\n",
    "2.多参加比赛，实践中学习\n",
    "\n",
    "3.做项目的时候一定要多尝试各种模型，深入学习了解模型架构和原理。多尝试各种优化器，耐心调参，如果能理解各种优化器的原理和优缺点，那就更好了。\n",
    "\n",
    "4.要学会各种数据预处理的方法，只有有了好的数据，才能训练出一个好的模型\n",
    "\n"
   ]
  },
  {
   "cell_type": "markdown",
   "metadata": {
    "collapsed": false
   },
   "source": [
    "# 参考资料\n",
    "[https://ieeexplore.ieee.org/abstract/document/8929252]\n",
    "[https://ieeexplore.ieee.org/abstract/document/8643416/](http://)"
   ]
  }
 ],
 "metadata": {
  "kernelspec": {
   "display_name": "Python 3",
   "language": "python",
   "name": "py35-paddle1.2.0"
  },
  "language_info": {
   "codemirror_mode": {
    "name": "ipython",
    "version": 3
   },
   "file_extension": ".py",
   "mimetype": "text/x-python",
   "name": "python",
   "nbconvert_exporter": "python",
   "pygments_lexer": "ipython3",
   "version": "3.7.4"
  }
 },
 "nbformat": 4,
 "nbformat_minor": 1
}
